{
 "cells": [
  {
   "cell_type": "code",
   "execution_count": 1,
   "id": "3b31ccfe",
   "metadata": {
    "papermill": {
     "duration": null,
     "end_time": null,
     "exception": null,
     "start_time": null,
     "status": "completed"
    },
    "tags": [
     "injected-parameters"
    ]
   },
   "outputs": [],
   "source": [
    "# Parameters\n",
    "data_path = \"C:\\\\Users\\\\Anushka\\\\mini_project_sem_7\\\\uploadcsv\\\\Notebooks\\\\preprocessed_data.csv\"\n"
   ]
  },
  {
   "cell_type": "code",
   "execution_count": 2,
   "id": "3fd758ea",
   "metadata": {
    "papermill": {
     "duration": null,
     "end_time": null,
     "exception": null,
     "start_time": null,
     "status": "completed"
    },
    "tags": []
   },
   "outputs": [
    {
     "name": "stderr",
     "output_type": "stream",
     "text": [
      "C:\\Users\\Anushka\\AppData\\Roaming\\Python\\Python310\\site-packages\\scipy\\__init__.py:177: UserWarning: A NumPy version >=1.18.5 and <1.26.0 is required for this version of SciPy (detected version 1.26.4\n",
      "  warnings.warn(f\"A NumPy version >={np_minversion} and <{np_maxversion}\"\n"
     ]
    }
   ],
   "source": [
    "import pandas as pd\n",
    "from sklearn.linear_model import LinearRegression\n",
    "from sklearn.model_selection import train_test_split\n",
    "from sklearn.metrics import mean_squared_error\n",
    "import joblib\n",
    "import os\n",
    "\n"
   ]
  },
  {
   "cell_type": "code",
   "execution_count": 3,
   "id": "636ac1c2",
   "metadata": {
    "papermill": {
     "duration": null,
     "end_time": null,
     "exception": null,
     "start_time": null,
     "status": "completed"
    },
    "tags": []
   },
   "outputs": [
    {
     "name": "stdout",
     "output_type": "stream",
     "text": [
      "   SepalLengthCm  PetalLengthCm  Species_Iris-versicolor  \\\n",
      "0       0.222222       0.067797                    False   \n",
      "1       0.166667       0.067797                    False   \n",
      "2       0.111111       0.050847                    False   \n",
      "3       0.083333       0.084746                    False   \n",
      "4       0.194444       0.067797                    False   \n",
      "\n",
      "   Species_Iris-virginica  \n",
      "0                   False  \n",
      "1                   False  \n",
      "2                   False  \n",
      "3                   False  \n",
      "4                   False  \n"
     ]
    }
   ],
   "source": [
    "# Dynamically determine the root directory (assumes the notebook is in the \"Notebooks\" directory)\n",
    "ROOT_DIR = os.path.abspath(os.path.join(os.getcwd(), '..'))\n",
    "\n",
    "# Path to the dataset relative to the root directory\n",
    "dataset_path = os.path.join(ROOT_DIR, 'Notebooks', 'preprocessed_data.csv')\n",
    "\n",
    "# Load the preprocessed dataset\n",
    "df = pd.read_csv(dataset_path)\n",
    "\n",
    "# Display the dataset\n",
    "print(df.head())"
   ]
  },
  {
   "cell_type": "code",
   "execution_count": 4,
   "id": "2f237d5f",
   "metadata": {
    "papermill": {
     "duration": null,
     "end_time": null,
     "exception": null,
     "start_time": null,
     "status": "completed"
    },
    "tags": []
   },
   "outputs": [
    {
     "name": "stdout",
     "output_type": "stream",
     "text": [
      "Mean Squared Error: 0.008429727021213248\n"
     ]
    }
   ],
   "source": [
    "# Split the data into features and target\n",
    "X = df.iloc[:, :-1]\n",
    "y = df.iloc[:, -1]\n",
    "\n",
    "# Split into training and testing sets\n",
    "X_train, X_test, y_train, y_test = train_test_split(X, y, test_size=0.2, random_state=42)\n",
    "\n",
    "# Train the Linear Regression model\n",
    "model = LinearRegression()\n",
    "model.fit(X_train, y_train)\n",
    "\n",
    "# Evaluate the model\n",
    "predictions = model.predict(X_test)\n",
    "mse = mean_squared_error(y_test, predictions)\n",
    "print(f\"Mean Squared Error: {mse}\")\n"
   ]
  },
  {
   "cell_type": "code",
   "execution_count": 5,
   "id": "4295750b",
   "metadata": {
    "papermill": {
     "duration": null,
     "end_time": null,
     "exception": null,
     "start_time": null,
     "status": "completed"
    },
    "tags": []
   },
   "outputs": [
    {
     "name": "stdout",
     "output_type": "stream",
     "text": [
      "Model saved to ..\\savedModels\\linear_regression_model.joblib\n"
     ]
    }
   ],
   "source": [
    "\n",
    "# Save the trained model\n",
    "saved_models_dir = os.path.join('..', 'savedModels')\n",
    "os.makedirs(saved_models_dir, exist_ok=True)\n",
    "model_path = os.path.join(saved_models_dir, 'linear_regression_model.joblib')\n",
    "joblib.dump(model, model_path)\n",
    "print(f\"Model saved to {model_path}\")"
   ]
  },
  {
   "cell_type": "code",
   "execution_count": null,
   "id": "2ca1ae0b",
   "metadata": {
    "papermill": {
     "duration": null,
     "end_time": null,
     "exception": null,
     "start_time": null,
     "status": "completed"
    },
    "tags": []
   },
   "outputs": [],
   "source": []
  }
 ],
 "metadata": {
  "kernelspec": {
   "display_name": "Python 3 (ipykernel)",
   "language": "python",
   "name": "python3"
  },
  "language_info": {
   "codemirror_mode": {
    "name": "ipython",
    "version": 3
   },
   "file_extension": ".py",
   "mimetype": "text/x-python",
   "name": "python",
   "nbconvert_exporter": "python",
   "pygments_lexer": "ipython3",
   "version": "3.10.6"
  },
  "papermill": {
   "default_parameters": {},
   "duration": 0.020013,
   "end_time": "2024-11-20T14:02:50.296420",
   "environment_variables": {},
   "exception": null,
   "input_path": "C:\\Users\\Anushka\\mini_project_sem_7\\uploadcsv\\Notebooks\\linear_regression.ipynb",
   "output_path": "C:\\Users\\Anushka\\mini_project_sem_7\\uploadcsv\\Notebooks\\output_linear_regression.ipynb",
   "parameters": {
    "data_path": "C:\\Users\\Anushka\\mini_project_sem_7\\uploadcsv\\Notebooks\\preprocessed_data.csv"
   },
   "start_time": "2024-11-20T14:02:50.276407",
   "version": "2.6.0"
  }
 },
 "nbformat": 4,
 "nbformat_minor": 5
}
